{
 "cells": [
  {
   "cell_type": "code",
   "execution_count": 23,
   "id": "b84e7fc4",
   "metadata": {},
   "outputs": [],
   "source": [
    "import torch\n",
    "import torch.nn as nn\n",
    "\n",
    "bs, T = 2, 3\n",
    "input_size, hidden_size = 2, 3\n",
    "input = torch.randn(bs, T, input_size)\n",
    "h_prev = torch.zeros(bs, hidden_size)"
   ]
  },
  {
   "cell_type": "code",
   "execution_count": 26,
   "id": "70564df9",
   "metadata": {},
   "outputs": [
    {
     "name": "stdout",
     "output_type": "stream",
     "text": [
      "torch.nn:\n",
      "tensor([[[ 0.5132, -0.3790, -0.1950],\n",
      "         [ 0.8378,  0.2247, -0.4548],\n",
      "         [ 0.8367,  0.9223,  0.3713]],\n",
      "\n",
      "        [[ 0.0602, -0.5196, -0.1648],\n",
      "         [-0.1270,  0.0013, -0.2568],\n",
      "         [-0.0058,  0.7812,  0.5089]]], grad_fn=<TransposeBackward1>)\n",
      "tensor([[[ 0.8367,  0.9223,  0.3713],\n",
      "         [-0.0058,  0.7812,  0.5089]]], grad_fn=<StackBackward0>)\n"
     ]
    }
   ],
   "source": [
    "# 单向、单层RNN\n",
    "single_rnn = nn.RNN(input_size, hidden_size, batch_first=True)\n",
    "output, h_n = single_rnn(input, h_prev.unsqueeze(0))\n",
    "print(\"torch.nn:\")\n",
    "print(output, h_n, sep='\\n')"
   ]
  },
  {
   "cell_type": "code",
   "execution_count": 6,
   "id": "611a3bbe",
   "metadata": {},
   "outputs": [
    {
     "name": "stdout",
     "output_type": "stream",
     "text": [
      "tensor([[[-0.1368,  0.7060, -0.2620, -0.6250, -0.3227,  0.7300],\n",
      "         [ 0.0046,  0.7662, -0.3822, -0.2390, -0.8976,  0.8876]]],\n",
      "       grad_fn=<TransposeBackward1>)\n",
      "tensor([[[ 0.0046,  0.7662, -0.3822]],\n",
      "\n",
      "        [[-0.6250, -0.3227,  0.7300]]], grad_fn=<StackBackward0>)\n"
     ]
    }
   ],
   "source": [
    "# 双向、单层RNN\n",
    "bidirectional_rnn = nn.RNN(4, 3, 1, batch_first=True, bidirectional=True)\n",
    "bi_output, bi_h_n = bidirectional_rnn(input)\n",
    "print(bi_output, bi_h_n, sep='\\n')"
   ]
  },
  {
   "cell_type": "code",
   "execution_count": 25,
   "id": "30a617a2",
   "metadata": {
    "scrolled": true
   },
   "outputs": [
    {
     "name": "stdout",
     "output_type": "stream",
     "text": [
      "Custom:\n",
      "tensor([[[ 0.4180, -0.3473,  0.4346],\n",
      "         [ 0.4717, -0.0361, -0.4478],\n",
      "         [ 0.8994,  0.9366,  0.4396]],\n",
      "\n",
      "        [[ 0.3011, -0.3287,  0.7705],\n",
      "         [ 0.0039, -0.0573,  0.6931],\n",
      "         [ 0.3710,  0.6758,  0.8040]]], grad_fn=<CopySlices>)\n",
      "tensor([[[0.8994, 0.9366, 0.4396],\n",
      "         [0.3710, 0.6758, 0.8040]]], grad_fn=<UnsqueezeBackward0>)\n"
     ]
    }
   ],
   "source": [
    "# 手动实现一个单项RNN\n",
    "\n",
    "def forward(input, w_ih, b_ih, w_hh, b_hh, h_prev):\n",
    "    bs, T, input_size = input.shape\n",
    "    h_dim = w_ih.shape[0]\n",
    "    h_out = torch.zeros(bs, T, h_dim) # 初始化一个输出\n",
    "    \n",
    "    for t in range(T):\n",
    "        x = input[:, t, :].unsqueeze(2) # 获取当前时刻输入  bs * input_size * 1\n",
    "        w_ih_batch = w_ih.unsqueeze(0).tile(bs, 1, 1) # bs * h_dim * input_size\n",
    "        w_hh_batch = w_hh.unsqueeze(0).tile(bs, 1, 1) # bs * h_dim * h_dim\n",
    "        \n",
    "        # bmm相当于第一维不动 后两维矩阵相乘\n",
    "        w_times_x = torch.bmm(w_ih_batch, x).squeeze(-1)  # 得到bs * h_dim\n",
    "        w_times_h = torch.bmm(w_hh_batch, h_prev.unsqueeze(2)).squeeze(-1)  # 得到bs * h_dim\n",
    "        h_prev = torch.tanh(w_times_x + b_ih + w_times_h + b_hh)\n",
    "        \n",
    "        h_out[:, t, :] = h_prev\n",
    "        \n",
    "    return h_out, h_prev.unsqueeze(0)\n",
    " \n",
    "# 验证rnn_forward正确性\n",
    "# for k, v in single_rnn.named_parameters():\n",
    "#     print(k, v)\n",
    "    \n",
    "custom_rnn_output, custom_state_final = forward(input, single_rnn.weight_ih_l0, \\\n",
    "                                               single_rnn.bias_ih_l0, single_rnn.weight_hh_l0, \\\n",
    "                                               single_rnn.bias_hh_l0, h_prev)\n",
    "\n",
    "print(\"Custom:\")\n",
    "print(custom_rnn_output, custom_state_final, sep='\\n')\n",
    "\n",
    "\n",
    "\n",
    "# 手动实现一个双向RNN\n",
    "def bidirectional_rnn_forward(input, w_ih, b_ih, w_hh, b_hh, h_prev, \\\n",
    "                             w_ih_r, ):\n",
    "    "
   ]
  },
  {
   "cell_type": "code",
   "execution_count": null,
   "id": "f22dfe8f",
   "metadata": {},
   "outputs": [],
   "source": []
  },
  {
   "cell_type": "code",
   "execution_count": null,
   "id": "2cbdc8bb",
   "metadata": {},
   "outputs": [],
   "source": []
  }
 ],
 "metadata": {
  "kernelspec": {
   "display_name": "Python 3 (ipykernel)",
   "language": "python",
   "name": "python3"
  },
  "language_info": {
   "codemirror_mode": {
    "name": "ipython",
    "version": 3
   },
   "file_extension": ".py",
   "mimetype": "text/x-python",
   "name": "python",
   "nbconvert_exporter": "python",
   "pygments_lexer": "ipython3",
   "version": "3.9.13"
  }
 },
 "nbformat": 4,
 "nbformat_minor": 5
}
