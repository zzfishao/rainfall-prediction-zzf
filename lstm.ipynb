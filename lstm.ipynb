{
 "cells": [
  {
   "cell_type": "code",
   "execution_count": 47,
   "metadata": {},
   "outputs": [
    {
     "name": "stderr",
     "output_type": "stream",
     "text": [
      "UsageError: Line magic function `%` not found.\n"
     ]
    }
   ],
   "source": [
    "import time\n",
    "\n",
    "import pandas as pd\n",
    "import numpy as np\n",
    "import torch\n",
    "import torch.nn as nn\n",
    "from numpy import concatenate\n",
    "# from keras.models import Sequential\n",
    "# from keras.layers import Dense, Dropout, Activation, Flatten, LSTM, TimeDistributed, RepeatVector\n",
    "# from keras.layers.normalization import BatchNormalization\n",
    "# from keras.optimizers import Adam\n",
    "# from keras.callbacks import EarlyStopping, ModelCheckpoint\n",
    "from sklearn.preprocessing import StandardScaler, MinMaxScaler\n",
    "import matplotlib.pyplot as plt\n",
    "% matplotlib inline"
   ]
  },
  {
   "cell_type": "code",
   "execution_count": 49,
   "metadata": {},
   "outputs": [],
   "source": [
    "n_in = 1  #历史数量\n",
    "n_out = 1 #预测数量\n",
    "n_features = 1\n",
    "# n_test = 1\n",
    "n_val = 1\n",
    "n_epochs = 100\n",
    "# device = torch.device(\"cuda:0\" if torch.cuda.is_available() else \"cpu\")\n",
    "# print(device)"
   ]
  },
  {
   "cell_type": "code",
   "execution_count": 57,
   "metadata": {},
   "outputs": [],
   "source": [
    "#导入数据\n",
    "def load_stw_data() -> pd.DataFrame:\n",
    "    rawdata = pd.read_csv('data/groupByCZ/test.csv')\n",
    "    rawdata = rawdata.drop(columns='cz')\n",
    "    # rawdata = rawdata.drop(columns='tm')\n",
    "    rawdata = rawdata.loc[:, ~rawdata.columns.str.contains('^Unnamed')]\n",
    "    # rawdata.columns = ['i', 'pp']\n",
    "    rawdata.columns = ['pp', 'tm']\n",
    "    rawdata.pp = rawdata.pp.astype(\"float32\")\n",
    "    # rawdata.i = rawdata.i.astype(int)\n",
    "    # rawdata = pd.read_csv('data/groupByCZ/test.csv')\n",
    "    # rawdata = rawdata.drop(columns='cz')\n",
    "    return rawdata"
   ]
  },
  {
   "cell_type": "code",
   "execution_count": 51,
   "outputs": [],
   "source": [
    "#MinMaxScaler数据归一化，可以帮助网络模型更快的拟合，稍微有一些提高准确率的效果\n",
    "def minmaxscaler(data: pd.DataFrame) -> pd.DataFrame:\n",
    "    data = data.drop(columns='tm')\n",
    "    pp = data['pp'].values\n",
    "    pp = pp.reshape(len(pp), 1)\n",
    "    pp = scaler.fit_transform(pp)\n",
    "    pp = pp.reshape(len(pp), )\n",
    "    data['pp'] = pp\n",
    "\n",
    "    return data"
   ],
   "metadata": {
    "collapsed": false
   }
  },
  {
   "cell_type": "code",
   "execution_count": 52,
   "metadata": {},
   "outputs": [],
   "source": [
    "#划分训练数据集和验证数据集,这里需要注意的是我么需要预测的数据是不可以出现在训练中的，切记。\n",
    "def split_data(x, y, n_test: int):\n",
    "    x_train = x[:-n_val - n_out + 1]\n",
    "    x_val = x[-n_val:]\n",
    "    y_train = y[:-n_val - n_out + 1]\n",
    "    y_val = y[-n_val:]\n",
    "    return x_train, y_train, x_val, y_val"
   ]
  },
  {
   "cell_type": "code",
   "execution_count": 53,
   "metadata": {},
   "outputs": [],
   "source": [
    "#划分X和Y\n",
    "def build_train(train, n_in, n_out):\n",
    "    X_train, Y_train = [], []\n",
    "    for i in range(train.shape[0] - n_in - n_out + 1):\n",
    "        X_train.append(np.array(train.iloc[i:i + n_in]))\n",
    "        Y_train.append(np.array(train.iloc[i + n_in:i + n_in + n_out][\"pp\"]))\n",
    "\n",
    "    return np.array(X_train), np.array(Y_train)"
   ]
  },
  {
   "cell_type": "code",
   "execution_count": 54,
   "metadata": {},
   "outputs": [],
   "source": [
    "# class MyLSTM(nn.Module):\n",
    "#     def __init__(self, input_size, hidden_size, num_layers, output_size):\n",
    "#         super(MyLSTM, self).__init__()\n",
    "#         self.hidden_size = hidden_size\n",
    "#         self.num_layers = num_layers\n",
    "#         self.lstm = nn.LSTM(input_size, hidden_size, num_layers, batch_first=True).to(device)\n",
    "#         self.fc = nn.Linear(hidden_size, output_size).to(device)\n",
    "#\n",
    "#     def forward(self, input_data):\n",
    "#         h0 = torch.zeros(self.num_layers, input_data.shape[0], self.hidden_size).requires_grad_().cuda()\n",
    "#         c0 = torch.zeros(self.num_layers, input_data.shape[0], self.hidden_size).requires_grad_().cuda()\n",
    "#         output, (hn, cn) = self.lstm(input_data, (h0.detach(), c0.detach()))\n",
    "#         output = self.fc(output[:, -1, :])\n",
    "#         return output\n",
    "\n",
    "class MyLSTM(nn.Module):\n",
    "    def __init__(self, input_size, hidden_size, num_layers, output_size):\n",
    "        super(MyLSTM, self).__init__()\n",
    "        self.hidden_size = hidden_size\n",
    "        self.num_layers = num_layers\n",
    "        self.lstm = nn.LSTM(input_size, hidden_size, num_layers, batch_first=True)\n",
    "        self.fc = nn.Linear(hidden_size, output_size)\n",
    "\n",
    "    def forward(self, input_data):\n",
    "        h0 = torch.zeros(self.num_layers, input_data.shape[0], self.hidden_size).requires_grad_()\n",
    "        c0 = torch.zeros(self.num_layers, input_data.shape[0], self.hidden_size).requires_grad_()\n",
    "        output, (hn, cn) = self.lstm(input_data, (h0.detach(), c0.detach()))\n",
    "        output = self.fc(output[:, -1, :])\n",
    "        return output\n",
    "\n",
    "# def build_lstm(n_in: int, n_features: int, data: pd.DataFrame):\n",
    "# 定义常量\n",
    "# bs, T, i_size, h_size = 2, data.shape[0], data.shape[1], 10  #batch_size  Time  input_size hidden_size\n",
    "# proj_size = 3  #投影大小\n",
    "# data = np.array(data)\n",
    "# data = torch.tensor(data, dtype=torch.float)\n",
    "# input = data  # (T, bs, i_size)\n",
    "# print(i_size)\n",
    "# print(input.shape)\n",
    "# c0 = torch.randn(bs, h_size)  # 初始值 不参与训练\n",
    "# h0 = torch.randn(bs, h_size)  # 初始值 不参与训练\n",
    "#\n",
    "\n",
    "# lstm_layer = nn.LSTM(i_size, h_size, 2, batch_first=True)  # (i_size h_size num_layer)\n",
    "# output, (h_n, c_n) = lstm_layer(input, (h0, c0))\n",
    "# print(output)  # (T, bs, h_size * direction)\n",
    "i_size = 1\n",
    "h_size = 16\n",
    "num_layer = 2\n",
    "o_size = 1\n",
    "\n",
    "model = MyLSTM(input_size=i_size, hidden_size=h_size, num_layers=num_layer, output_size=o_size)\n",
    "# model = nn.LSTM(input_size=i_size, hidden_size=h_size, num_layers=num_layer).to(device)\n",
    "\n",
    "criterion = torch.nn.MSELoss()\n",
    "optimiser = torch.optim.Adam(model.parameters(), lr=0.01)"
   ]
  },
  {
   "cell_type": "code",
   "execution_count": 55,
   "metadata": {},
   "outputs": [
    {
     "name": "stdout",
     "output_type": "stream",
     "text": [
      "        pp\n",
      "0      0.0\n",
      "1      0.0\n",
      "2      0.0\n",
      "3      0.0\n",
      "4      0.0\n",
      "...    ...\n",
      "15951  0.0\n",
      "15952  0.0\n",
      "15953  0.0\n",
      "15954  0.0\n",
      "15955  0.0\n",
      "\n",
      "[15956 rows x 1 columns]\n"
     ]
    },
    {
     "data": {
      "text/plain": "<Figure size 1080x648 with 1 Axes>",
      "image/png": "[encoded data removed]"
     },
     "metadata": {
      "needs_background": "light"
     },
     "output_type": "display_data"
    }
   ],
   "source": [
    "data = load_stw_data()\n",
    "# print(data)\n",
    "plt.figure(figsize=(15, 9))\n",
    "plt.plot(data['pp'])\n",
    "plt.xticks(range(0, data.shape[0], 168), data['tm'].loc[::168], rotation=90)\n",
    "plt.tight_layout()\n",
    "plt.savefig('data/img/test.jpg')\n",
    "# plt.show()\n",
    "scaler = MinMaxScaler(feature_range=(0, 1))\n",
    "data = minmaxscaler(data)\n",
    "print(data)\n",
    "data_copy = data.copy()\n",
    "# print(data_copy.shape)\n",
    "x, y = build_train(data_copy, n_in, n_out)\n",
    "# print(x.shape)\n",
    "x_train, y_train, x_val, y_val = split_data(x, y, n_val)\n",
    "# x_train = torch.Tensor(x_train).float().cuda()\n",
    "# y_train = torch.Tensor(y_train).float().cuda()\n",
    "# x_val = torch.Tensor(x_val).float().cuda()\n",
    "# y_val = torch.Tensor(y_val).float().cuda()\n",
    "x_train = torch.Tensor(x_train).float()\n",
    "y_train = torch.Tensor(y_train).float()\n",
    "x_val = torch.Tensor(x_val).float()\n",
    "y_val = torch.Tensor(y_val).float()\n",
    "# model = model_fit(x_train, y_train, x_val, y_val, 1)"
   ]
  },
  {
   "cell_type": "code",
   "execution_count": 39,
   "metadata": {},
   "outputs": [
    {
     "name": "stderr",
     "output_type": "stream",
     "text": [
      "C:\\Users\\hp\\AppData\\Roaming\\Python\\Python39\\site-packages\\torch\\nn\\modules\\loss.py:530: UserWarning: Using a target size (torch.Size([15765, 12])) that is different to the input size (torch.Size([15765, 1])). This will likely lead to incorrect results due to broadcasting. Please ensure they have the same size.\n",
      "  return F.mse_loss(input, target, reduction=self.reduction)\n"
     ]
    },
    {
     "name": "stdout",
     "output_type": "stream",
     "text": [
      "Epoch:0 MSE:0.010797829367220402\n",
      "Epoch:1 MSE:0.0012631772551685572\n",
      "Epoch:2 MSE:0.0039624120108783245\n",
      "Epoch:3 MSE:0.004861948546022177\n",
      "Epoch:4 MSE:0.003259371966123581\n",
      "Epoch:5 MSE:0.0017440466908738017\n",
      "Epoch:6 MSE:0.0011960809351876378\n",
      "Epoch:7 MSE:0.0014650198863819242\n",
      "Epoch:8 MSE:0.0019627383444458246\n",
      "Epoch:9 MSE:0.002183553297072649\n",
      "Epoch:10 MSE:0.0020398530177772045\n",
      "Epoch:11 MSE:0.0017088608583435416\n",
      "Epoch:12 MSE:0.0013959889765828848\n",
      "Epoch:13 MSE:0.0012203700607642531\n",
      "Epoch:14 MSE:0.0012012544320896268\n",
      "Epoch:15 MSE:0.0012894815299659967\n",
      "Epoch:16 MSE:0.0014094357611611485\n",
      "Epoch:17 MSE:0.0014952364144846797\n",
      "Epoch:18 MSE:0.0015125299105420709\n",
      "Epoch:19 MSE:0.001462724874727428\n",
      "Epoch:20 MSE:0.001373069710098207\n",
      "Epoch:21 MSE:0.0012801791308447719\n",
      "Epoch:22 MSE:0.0012145863147452474\n",
      "Epoch:23 MSE:0.0011910964967682958\n",
      "Epoch:24 MSE:0.00120660406537354\n",
      "Epoch:25 MSE:0.0012445506872609258\n",
      "Epoch:26 MSE:0.0012834032531827688\n",
      "Epoch:27 MSE:0.001305535901337862\n",
      "Epoch:28 MSE:0.001303137862123549\n",
      "Epoch:29 MSE:0.0012793568894267082\n",
      "Epoch:30 MSE:0.0012450756039470434\n",
      "Epoch:31 MSE:0.0012133665150031447\n",
      "Epoch:32 MSE:0.0011941505363211036\n",
      "Epoch:33 MSE:0.0011909949826076627\n",
      "Epoch:34 MSE:0.001200843951664865\n",
      "Epoch:35 MSE:0.0012162966886535287\n",
      "Epoch:36 MSE:0.0012291762977838516\n",
      "Epoch:37 MSE:0.0012338286032900214\n",
      "Epoch:38 MSE:0.0012289094738662243\n",
      "Epoch:39 MSE:0.0012171900598332286\n",
      "Epoch:40 MSE:0.0012037679553031921\n",
      "Epoch:41 MSE:0.0011936408700421453\n",
      "Epoch:42 MSE:0.0011897014919668436\n",
      "Epoch:43 MSE:0.0011918910313397646\n",
      "Epoch:44 MSE:0.0011976846726611257\n",
      "Epoch:45 MSE:0.00120352313388139\n",
      "Epoch:46 MSE:0.0012064656475558877\n",
      "Epoch:47 MSE:0.0012053328100591898\n",
      "Epoch:48 MSE:0.0012009248603135347\n",
      "Epoch:49 MSE:0.0011953548528254032\n",
      "Epoch:50 MSE:0.0011909165186807513\n",
      "Epoch:51 MSE:0.0011890524765476584\n",
      "Epoch:52 MSE:0.0011898543452844024\n",
      "Epoch:53 MSE:0.0011922396952286363\n",
      "Epoch:54 MSE:0.0011946206213906407\n",
      "Epoch:55 MSE:0.0011956981616094708\n",
      "Epoch:56 MSE:0.0011950012994930148\n",
      "Epoch:57 MSE:0.0011929669417440891\n",
      "Epoch:58 MSE:0.0011905900901183486\n",
      "Epoch:59 MSE:0.0011888722656294703\n",
      "Epoch:60 MSE:0.0011883503757417202\n",
      "Epoch:61 MSE:0.0011889167362824082\n",
      "Epoch:62 MSE:0.0011899748351424932\n",
      "Epoch:63 MSE:0.001190800336189568\n",
      "Epoch:64 MSE:0.0011909118620678782\n",
      "Epoch:65 MSE:0.0011902650585398078\n",
      "Epoch:66 MSE:0.0011892025358974934\n",
      "Epoch:67 MSE:0.0011882196413353086\n",
      "Epoch:68 MSE:0.0011876942589879036\n",
      "Epoch:69 MSE:0.001187715446576476\n",
      "Epoch:70 MSE:0.0011880857637152076\n",
      "Epoch:71 MSE:0.0011884680716320872\n",
      "Epoch:72 MSE:0.001188580528832972\n",
      "Epoch:73 MSE:0.0011883312836289406\n",
      "Epoch:74 MSE:0.0011878344230353832\n",
      "Epoch:75 MSE:0.0011873163748532534\n",
      "Epoch:76 MSE:0.0011869786540046334\n",
      "Epoch:77 MSE:0.0011868943693116307\n",
      "Epoch:78 MSE:0.0011869914596900344\n",
      "Epoch:79 MSE:0.00118711416143924\n",
      "Epoch:80 MSE:0.0011871210299432278\n",
      "Epoch:81 MSE:0.0011869589798152447\n",
      "Epoch:82 MSE:0.0011866773711517453\n",
      "Epoch:83 MSE:0.0011863835388794541\n",
      "Epoch:84 MSE:0.001186173758469522\n",
      "Epoch:85 MSE:0.0011860813247039914\n",
      "Epoch:86 MSE:0.001186068751849234\n",
      "Epoch:87 MSE:0.001186060020700097\n",
      "Epoch:88 MSE:0.0011859905207529664\n",
      "Epoch:89 MSE:0.0011858411598950624\n",
      "Epoch:90 MSE:0.001185642322525382\n",
      "Epoch:91 MSE:0.0011854468612000346\n",
      "Epoch:92 MSE:0.0011852969182655215\n",
      "Epoch:93 MSE:0.0011852002935484052\n",
      "Epoch:94 MSE:0.0011851312592625618\n",
      "Epoch:95 MSE:0.0011850527953356504\n",
      "Epoch:96 MSE:0.0011849385919049382\n",
      "Epoch:97 MSE:0.0011847881833091378\n",
      "Epoch:98 MSE:0.0011846220586448908\n",
      "Epoch:99 MSE:0.0011844659456983209\n",
      "Training Time:687.2517416477203\n"
     ]
    }
   ],
   "source": [
    "hist = np.zeros(n_epochs)\n",
    "start_time = time.time()\n",
    "lstm = []\n",
    "for t in range(n_epochs):\n",
    "    prediction = model(x_train)\n",
    "    # fc = nn.Linear(h_size, o_size).to(device)\n",
    "    # print(prediction[0].shape)\n",
    "    # output = fc(prediction[0][:, -1, :])\n",
    "    # print(output.shape, y_train.shape, sep=' ')\n",
    "    loss = criterion(prediction, y_train)\n",
    "    print(f\"Epoch:{t} MSE:{loss.item()}\")\n",
    "    hist[t] = loss.item()\n",
    "\n",
    "    optimiser.zero_grad()\n",
    "    loss.backward()\n",
    "    optimiser.step()\n",
    "\n",
    "print(f\"Training Time:{time.time() - start_time}\")"
   ]
  },
  {
   "cell_type": "code",
   "execution_count": 56,
   "outputs": [
    {
     "name": "stdout",
     "output_type": "stream",
     "text": [
      "torch.Size([15954, 1, 1])\n",
      "torch.Size([1, 1, 1])\n",
      "torch.Size([15954, 1])\n",
      "torch.Size([1, 1])\n"
     ]
    }
   ],
   "source": [
    "print(x_train.shape)\n",
    "print(x_val.shape)\n",
    "print(y_train.shape)\n",
    "print(y_val.shape)"
   ],
   "metadata": {
    "collapsed": false
   }
  },
  {
   "cell_type": "code",
   "execution_count": 40,
   "outputs": [
    {
     "data": {
      "text/plain": "<Figure size 720x360 with 1 Axes>",
      "image/png": "[encoded data removed]"
     },
     "metadata": {
      "needs_background": "light"
     },
     "output_type": "display_data"
    }
   ],
   "source": [
    "plt.figure(figsize=(10, 5))\n",
    "plt.plot(range(hist.size), hist)\n",
    "plt.xlabel('Epochs')\n",
    "plt.ylabel('Loss')\n",
    "plt.title('Training Loss')\n",
    "plt.show()"
   ],
   "metadata": {
    "collapsed": false
   }
  },
  {
   "cell_type": "code",
   "execution_count": 48,
   "metadata": {},
   "outputs": [
    {
     "ename": "RuntimeError",
     "evalue": "shape '[1, 1]' is invalid for input of size 168",
     "output_type": "error",
     "traceback": [
      "\u001B[1;31m---------------------------------------------------------------------------\u001B[0m",
      "\u001B[1;31mRuntimeError\u001B[0m                              Traceback (most recent call last)",
      "Input \u001B[1;32mIn [48]\u001B[0m, in \u001B[0;36m<cell line: 2>\u001B[1;34m()\u001B[0m\n\u001B[0;32m      1\u001B[0m predict \u001B[38;5;241m=\u001B[39m model(x_val)\n\u001B[1;32m----> 2\u001B[0m x_val \u001B[38;5;241m=\u001B[39m \u001B[43mx_val\u001B[49m\u001B[38;5;241;43m.\u001B[39;49m\u001B[43mreshape\u001B[49m\u001B[43m(\u001B[49m\u001B[43m(\u001B[49m\u001B[43mx_val\u001B[49m\u001B[38;5;241;43m.\u001B[39;49m\u001B[43mshape\u001B[49m\u001B[43m[\u001B[49m\u001B[38;5;241;43m0\u001B[39;49m\u001B[43m]\u001B[49m\u001B[43m,\u001B[49m\u001B[43m \u001B[49m\u001B[43mx_val\u001B[49m\u001B[38;5;241;43m.\u001B[39;49m\u001B[43mshape\u001B[49m\u001B[43m[\u001B[49m\u001B[38;5;241;43m2\u001B[39;49m\u001B[43m]\u001B[49m\u001B[43m)\u001B[49m\u001B[43m)\u001B[49m\n\u001B[0;32m      3\u001B[0m predict_inv \u001B[38;5;241m=\u001B[39m concatenate((predict, x_val[:, \u001B[38;5;241m1\u001B[39m:]), axis\u001B[38;5;241m=\u001B[39m\u001B[38;5;241m1\u001B[39m)\n\u001B[0;32m      4\u001B[0m predict_inv \u001B[38;5;241m=\u001B[39m scaler\u001B[38;5;241m.\u001B[39minverse_transform(predict_inv)\n",
      "\u001B[1;31mRuntimeError\u001B[0m: shape '[1, 1]' is invalid for input of size 168"
     ]
    }
   ],
   "source": [
    "predict = model(x_val)\n",
    "x_val = x_val.reshape((x_val.shape[0], x_val.shape[2]))\n",
    "predict_inv = concatenate((predict, x_val[:, 1:]), axis=1)\n",
    "predict_inv = scaler.inverse_transform(predict_inv)\n",
    "predict_inv = predict_inv[:, 0]\n",
    "\n",
    "original_inv = scaler.inverse_transform(x_val)\n",
    "original_inv = original_inv[:, 0]\n",
    "print(predict_inv)\n",
    "print(original_inv)\n",
    "# plt.figure(figsize=(15, 9))\n",
    "# # plt.plot(orig.index, orig[0])\n",
    "# # plt.plot(validation.index, data['pp'][-validation.shape[0]:])\n",
    "# plt.plot(validation, validation[0])\n",
    "# plt.show()"
   ]
  },
  {
   "cell_type": "code",
   "execution_count": null,
   "outputs": [],
   "source": [],
   "metadata": {
    "collapsed": false
   }
  }
 ],
 "metadata": {
  "kernelspec": {
   "display_name": "Python 3 (ipykernel)",
   "language": "python",
   "name": "python3"
  },
  "language_info": {
   "codemirror_mode": {
    "name": "ipython",
    "version": 3
   },
   "file_extension": ".py",
   "mimetype": "text/x-python",
   "name": "python",
   "nbconvert_exporter": "python",
   "pygments_lexer": "ipython3",
   "version": "3.9.13"
  }
 },
 "nbformat": 4,
 "nbformat_minor": 4
}
